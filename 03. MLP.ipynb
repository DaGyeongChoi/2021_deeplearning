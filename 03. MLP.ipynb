{
 "cells": [
  {
   "cell_type": "markdown",
   "id": "deeec380",
   "metadata": {},
   "source": [
    "# [실습05] 합성곱 신경망(1)\n",
    "\n",
    "\n",
    "### 휴먼지능정보공학과 201910841 최다경\n",
    "\n",
    "### https://github.com/DaGyeongChoi/2021_deeplearning\n",
    "\n",
    "### Load packages"
   ]
  },
  {
   "cell_type": "code",
   "execution_count": 1,
   "id": "8bbc7846",
   "metadata": {},
   "outputs": [],
   "source": [
    "import torch\n",
    "import torch.nn as nn\n",
    "import torchvision.datasets as dset\n",
    "import torchvision.transforms as transforms\n",
    "from torch.utils.data import DataLoader\n",
    "from torch.autograd import Variable\n",
    "import matplotlib.pyplot as plt\n",
    "%matplotlib inline"
   ]
  },
  {
   "cell_type": "markdown",
   "id": "081e2710",
   "metadata": {},
   "source": [
    "### MNIST train, test dataset 가져오기"
   ]
  },
  {
   "cell_type": "code",
   "execution_count": 2,
   "id": "1bf9a260",
   "metadata": {},
   "outputs": [],
   "source": [
    "# \"\": 현재 폴더에 MNIST 있음\n",
    "mnist_train=dset.MNIST(\"\", train=True, transform=transforms.ToTensor(), target_transform=None, download=True)\n",
    "mnist_test=dset.MNIST(\"\", train=False, transform=transforms.ToTensor(), target_transform=None, download=True)"
   ]
  },
  {
   "cell_type": "markdown",
   "id": "399d888a",
   "metadata": {},
   "source": [
    "### 대략적인 데이터 형태"
   ]
  },
  {
   "cell_type": "code",
   "execution_count": 3,
   "id": "f76178bd",
   "metadata": {},
   "outputs": [
    {
     "name": "stdout",
     "output_type": "stream",
     "text": [
      "('mnist_train \\xea\\xb8\\xb8\\xec\\x9d\\xb4', 60000)\n",
      "('mnist_test \\xea\\xb8\\xb8\\xec\\x9d\\xb4', 10000)\n",
      "('image data \\xed\\x98\\x95\\xed\\x83\\x9c:', torch.Size([1, 28, 28]))\n",
      "('label:', 5)\n"
     ]
    },
    {
     "data": {
      "image/png": "[encoded data removed]",
      "text/plain": [
       "<Figure size 432x288 with 1 Axes>"
      ]
     },
     "metadata": {
      "needs_background": "light"
     },
     "output_type": "display_data"
    }
   ],
   "source": [
    "print(\"mnist_train 길이\",len(mnist_train))\n",
    "print(\"mnist_test 길이\",len(mnist_test))\n",
    "\n",
    "#데이터 하나 형태\n",
    "image, label = mnist_train.__getitem__(0)\n",
    "print(\"image data 형태:\", image.size())\n",
    "print(\"label:\", label)\n",
    "\n",
    "#그리기\n",
    "img=image.numpy()\n",
    "plt.title(\"label: %d\" %label)\n",
    "plt.imshow(img[0], cmap='gray')\n",
    "plt.show()"
   ]
  },
  {
   "cell_type": "markdown",
   "id": "a7277756",
   "metadata": {},
   "source": [
    "### MNIST data 띄워보기"
   ]
  },
  {
   "cell_type": "code",
   "execution_count": 4,
   "id": "a03f9cee",
   "metadata": {},
   "outputs": [
    {
     "name": "stdout",
     "output_type": "stream",
     "text": [
      "5\n",
      "torch.Size([1, 28, 28])\n",
      "5\n"
     ]
    },
    {
     "data": {
      "image/png": "[encoded data removed]",
      "text/plain": [
       "<Figure size 432x288 with 1 Axes>"
      ]
     },
     "metadata": {
      "needs_background": "light"
     },
     "output_type": "display_data"
    },
    {
     "name": "stdout",
     "output_type": "stream",
     "text": [
      "0\n"
     ]
    },
    {
     "data": {
      "image/png": "[encoded data removed]",
      "text/plain": [
       "<Figure size 432x288 with 1 Axes>"
      ]
     },
     "metadata": {
      "needs_background": "light"
     },
     "output_type": "display_data"
    },
    {
     "name": "stdout",
     "output_type": "stream",
     "text": [
      "4\n"
     ]
    },
    {
     "data": {
      "image/png": "[encoded data removed]",
      "text/plain": [
       "<Figure size 432x288 with 1 Axes>"
      ]
     },
     "metadata": {
      "needs_background": "light"
     },
     "output_type": "display_data"
    }
   ],
   "source": [
    "print(mnist_train[0][1])\n",
    "print(mnist_train[0][0].size())\n",
    "\n",
    "for i in range(3):\n",
    "    img=mnist_train[i][0].numpy()\n",
    "    print(mnist_train[i][1])\n",
    "    plt.imshow(img[0], cmap='gray')\n",
    "    plt.show()"
   ]
  },
  {
   "cell_type": "markdown",
   "id": "b2be9625",
   "metadata": {},
   "source": [
    "### convolution 하나 씌워보기"
   ]
  },
  {
   "cell_type": "code",
   "execution_count": 5,
   "id": "bd28a879",
   "metadata": {},
   "outputs": [
    {
     "name": "stdout",
     "output_type": "stream",
     "text": [
      "torch.Size([1, 1, 28, 28])\n",
      "5\n",
      "torch.Size([1, 3, 28, 28])\n"
     ]
    },
    {
     "data": {
      "image/png": "[encoded data removed]",
      "text/plain": [
       "<Figure size 432x288 with 1 Axes>"
      ]
     },
     "metadata": {
      "needs_background": "light"
     },
     "output_type": "display_data"
    },
    {
     "data": {
      "image/png": "[encoded data removed]",
      "text/plain": [
       "<Figure size 432x288 with 1 Axes>"
      ]
     },
     "metadata": {
      "needs_background": "light"
     },
     "output_type": "display_data"
    },
    {
     "data": {
      "image/png": "[encoded data removed]",
      "text/plain": [
       "<Figure size 432x288 with 1 Axes>"
      ]
     },
     "metadata": {
      "needs_background": "light"
     },
     "output_type": "display_data"
    }
   ],
   "source": [
    "#mnist의 첫번째 이미지, 라벨 가져오기\n",
    "image, label= mnist_train[0]\n",
    "#view: tensor size 조절, -1: 해당 차원의 차원을 확장시켜라\n",
    "#[1, 28, 28] -> [1, 1, 28, 28]\n",
    "image=image.view(-1, image.size()[0], image.size()[1], image.size()[2])\n",
    "print(image.size())\n",
    "\n",
    "print(label)\n",
    "\n",
    "#convolution filter 정의\n",
    "conv_layer=nn.Conv2d(in_channels=1,out_channels=3, kernel_size=3,padding=1)\n",
    "#image 칸에 filter 적용\n",
    "output=conv_layer(Variable(image))\n",
    "print(output.size())\n",
    "\n",
    "for i in range(3):\n",
    "    plt.imshow(output[0,i,:,:].data.numpy(), cmap='gray')\n",
    "    plt.show()"
   ]
  },
  {
   "cell_type": "markdown",
   "id": "4acb2774",
   "metadata": {},
   "source": [
    "### CNN 만들기\n",
    "#### train,test data 가져오기"
   ]
  },
  {
   "cell_type": "code",
   "execution_count": 6,
   "id": "d7868982",
   "metadata": {},
   "outputs": [],
   "source": [
    "import numpy as np\n",
    "import torch.optim as optim\n",
    "\n",
    "batch_size=16\n",
    "learning_rate=0.0002\n",
    "num_epoch=10"
   ]
  },
  {
   "cell_type": "code",
   "execution_count": 7,
   "id": "36b37d25",
   "metadata": {},
   "outputs": [],
   "source": [
    "#후에 학습시킬 때 batch_size 단위로 학습 시켜 나감\n",
    "train_loader=torch.utils.data.DataLoader(list(mnist_train)[:batch_size*100], batch_size=batch_size, shuffle=True, num_workers=2, drop_last=True)\n",
    "test_loader=torch.utils.data.DataLoader((mnist_test), batch_size=batch_size, shuffle=False, num_workers=2, drop_last=True)"
   ]
  },
  {
   "cell_type": "markdown",
   "id": "3bfe4929",
   "metadata": {},
   "source": [
    "### CNN 클래스 만들기(모델 만들기)"
   ]
  },
  {
   "cell_type": "code",
   "execution_count": 8,
   "id": "fcb00caa",
   "metadata": {},
   "outputs": [],
   "source": [
    "class CNN(nn.Module): #nn.Module 상속 받음\n",
    "    def __init__(self):\n",
    "        super(CNN,self).__init__() #28x28\n",
    "        self.layer=nn.Sequential(\n",
    "            nn.Conv2d(1,16,5,padding=2),\n",
    "            nn.ReLU(),\n",
    "\n",
    "            nn.Conv2d(16,32,5,padding=2), #28x28\n",
    "            nn.ReLU(),\n",
    "            nn.MaxPool2d(2,2), #28x28 -> 14x14\n",
    "            \n",
    "            nn.Conv2d(32,64,5,padding=2), #14x14\n",
    "            nn.ReLU(),\n",
    "            nn.MaxPool2d(2,2) #14x14 -> 7x7\n",
    "        )\n",
    "        self.fc_layer=nn.Sequential(\n",
    "            nn.Linear(64*7*7, 100),\n",
    "            nn.ReLU(),\n",
    "            nn.Linear(100,10)\n",
    "        )\n",
    "    \n",
    "    def forward(self,x):\n",
    "        out=self.layer(x)\n",
    "        out=out.view(batch_size,-1)\n",
    "        out=self.fc_layer(out)\n",
    "        return out\n",
    "    \n",
    "model=CNN()#.cuda()"
   ]
  },
  {
   "cell_type": "code",
   "execution_count": 9,
   "id": "8e8f627b",
   "metadata": {},
   "outputs": [
    {
     "name": "stdout",
     "output_type": "stream",
     "text": [
      "torch.Size([16, 1, 5, 5])\n",
      "torch.Size([16])\n",
      "torch.Size([32, 16, 5, 5])\n",
      "torch.Size([32])\n",
      "torch.Size([64, 32, 5, 5])\n",
      "torch.Size([64])\n",
      "torch.Size([100, 3136])\n",
      "torch.Size([100])\n",
      "torch.Size([10, 100])\n",
      "torch.Size([10])\n"
     ]
    }
   ],
   "source": [
    "#parameter 체크하기\n",
    "for parameter in model.parameters():\n",
    "    #print(parameters)\n",
    "    print(parameter.shape)"
   ]
  },
  {
   "cell_type": "code",
   "execution_count": 10,
   "id": "656951fa",
   "metadata": {},
   "outputs": [],
   "source": [
    "#loss function, optimizer 선언\n",
    "loss_func=nn.CrossEntropyLoss()\n",
    "optimizer=torch.optim.Adam(model.parameters(), lr=learning_rate)"
   ]
  },
  {
   "cell_type": "markdown",
   "id": "919a7010",
   "metadata": {},
   "source": [
    "### optimization"
   ]
  },
  {
   "cell_type": "code",
   "execution_count": 11,
   "id": "3b8dabaa",
   "metadata": {},
   "outputs": [
    {
     "name": "stdout",
     "output_type": "stream",
     "text": [
      "(0, tensor(2.3126, grad_fn=<NllLossBackward>))\n",
      "(0, tensor(0.4028, grad_fn=<NllLossBackward>))\n",
      "(0, tensor(0.1533, grad_fn=<NllLossBackward>))\n",
      "(0, tensor(0.1914, grad_fn=<NllLossBackward>))\n",
      "(0, tensor(0.1153, grad_fn=<NllLossBackward>))\n",
      "(0, tensor(0.1494, grad_fn=<NllLossBackward>))\n",
      "(0, tensor(0.0567, grad_fn=<NllLossBackward>))\n",
      "(0, tensor(0.1324, grad_fn=<NllLossBackward>))\n",
      "(0, tensor(0.0838, grad_fn=<NllLossBackward>))\n",
      "(0, tensor(0.0274, grad_fn=<NllLossBackward>))\n"
     ]
    }
   ],
   "source": [
    "for i in range(num_epoch):\n",
    "    for j,[image, label] in enumerate(train_loader):\n",
    "        x=Variable(image)#.cuda()\n",
    "        y_=Variable(label)#.cuda()\n",
    "        \n",
    "        optimizer.zero_grad()\n",
    "        output=model.forward(x)\n",
    "        loss=loss_func(output,y_)\n",
    "        loss.backward()\n",
    "        optimizer.step()\n",
    "        \n",
    "        if j%1000==0:\n",
    "            print(j,loss)"
   ]
  },
  {
   "cell_type": "code",
   "execution_count": 15,
   "id": "805b382c",
   "metadata": {},
   "outputs": [
    {
     "name": "stdout",
     "output_type": "stream",
     "text": [
      "model restored\n"
     ]
    }
   ],
   "source": [
    "#모델 저장시키기\n",
    "torch.save(model, 'nets/mycnn_model_%d.pkl' %(num_epoch))\n",
    "\n",
    "try:\n",
    "    #미리 학습 시킨 네트워크의 파라미터 집합 [피클] 이라 발음함\n",
    "    model=torch.load('nets/mycnn_model_10.pkl')\n",
    "    print(\"model restored\")\n",
    "except:\n",
    "    print(\"model not restored\")"
   ]
  },
  {
   "cell_type": "code",
   "execution_count": 13,
   "id": "5f71d3cd",
   "metadata": {},
   "outputs": [],
   "source": [
    "def ComputeAccr(dloader, imodel):\n",
    "    correct=0\n",
    "    total=0\n",
    "    \n",
    "    for j,[imgs, labels] in enumerate(dloader): #batch_size만큼\n",
    "        img=Variable(imgs, volatile=True)#.cuda() #x\n",
    "        label=Variable(labels)#.cuda() #y\n",
    "        \n",
    "        output=imodel.forward(img)#forward prop\n",
    "        _, output_index=torch.max(output,1)\n",
    "        \n",
    "        total+=label.size(0)\n",
    "        correct+=(output_index==label).sum().float()\n",
    "    print(\"Accuracy of Test Data: {}\" .format(100*correct/total))"
   ]
  },
  {
   "cell_type": "code",
   "execution_count": 14,
   "id": "dd2fe55a",
   "metadata": {},
   "outputs": [
    {
     "name": "stderr",
     "output_type": "stream",
     "text": [
      "/home/ec2-user/anaconda3/envs/pytorch_p27/lib/python2.7/site-packages/ipykernel/__main__.py:6: UserWarning: volatile was removed and now has no effect. Use `with torch.no_grad():` instead.\n"
     ]
    },
    {
     "name": "stdout",
     "output_type": "stream",
     "text": [
      "Accuracy of Test Data: 94.5800018311\n"
     ]
    }
   ],
   "source": [
    "ComputeAccr(test_loader, model)"
   ]
  },
  {
   "cell_type": "code",
   "execution_count": null,
   "id": "2845c740",
   "metadata": {},
   "outputs": [],
   "source": []
  }
 ],
 "metadata": {
  "kernelspec": {
   "display_name": "conda_pytorch_p27",
   "language": "python",
   "name": "conda_pytorch_p27"
  },
  "language_info": {
   "codemirror_mode": {
    "name": "ipython",
    "version": 2
   },
   "file_extension": ".py",
   "mimetype": "text/x-python",
   "name": "python",
   "nbconvert_exporter": "python",
   "pygments_lexer": "ipython2",
   "version": "2.7.16"
  }
 },
 "nbformat": 4,
 "nbformat_minor": 5
}
