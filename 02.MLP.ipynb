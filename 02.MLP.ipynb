{
 "cells": [
  {
   "cell_type": "markdown",
   "id": "democratic-female",
   "metadata": {},
   "source": [
    "# [실습01]MLP-학습\n",
    "\n",
    "### 휴먼지능정보공학과 201910841 최다경\n",
    "\n",
    "\n",
    "### 1. 라이브러리 임포트"
   ]
  },
  {
   "cell_type": "code",
   "execution_count": 1,
   "id": "periodic-youth",
   "metadata": {},
   "outputs": [],
   "source": [
    "import torch\n",
    "import torch.nn as nn\n",
    "import torch.optim as optim \n",
    "import torchvision.datasets as dset\n",
    "import torchvision.transforms as transforms\n",
    "from torch.utils.data import DataLoader\n",
    "from torch.autograd import Variable\n",
    "import matplotlib.pyplot as plt\n",
    "%matplotlib inline\n",
    "import numpy as np"
   ]
  },
  {
   "cell_type": "markdown",
   "id": "renewable-season",
   "metadata": {},
   "source": [
    "## 1. MNIST tain,test dataset 가져오기"
   ]
  },
  {
   "cell_type": "code",
   "execution_count": 2,
   "id": "referenced-making",
   "metadata": {},
   "outputs": [],
   "source": [
    "#\"\":현재 폴더에 MINST있다는 의미\n",
    "mnist_train=dset.MNIST(\"\", train=True, transform=transforms.ToTensor(), target_transform=None, download=True) #train용\n",
    "mnist_test=dset.MNIST(\"\", train=False, transform=transforms.ToTensor(), target_transform=None, download=True) #test용"
   ]
  },
  {
   "cell_type": "markdown",
   "id": "recognized-uncle",
   "metadata": {},
   "source": [
    "## 2. 대략적인 데이터 형태"
   ]
  },
  {
   "cell_type": "code",
   "execution_count": 3,
   "id": "english-expansion",
   "metadata": {},
   "outputs": [
    {
     "name": "stdout",
     "output_type": "stream",
     "text": [
      "mnist_train 길이:  60000\n",
      "mnist_test 길이:  10000\n",
      "image data 형태: torch.Size([1, 28, 28])\n",
      "label:  5\n"
     ]
    },
    {
     "data": {
      "image/png": "[encoded data removed]",
      "text/plain": [
       "<Figure size 432x288 with 1 Axes>"
      ]
     },
     "metadata": {
      "needs_background": "light"
     },
     "output_type": "display_data"
    }
   ],
   "source": [
    "print \"mnist_train 길이: \", len(mnist_train)\n",
    "print \"mnist_test 길이: \", len(mnist_test)\n",
    "\n",
    "#데이터 하나 형태\n",
    "image, label=mnist_train.__getitem__(0) #0번째 데이터\n",
    "print \"image data 형태:\",image.size()\n",
    "print \"label: \", label\n",
    "\n",
    "#그리기\n",
    "img = image.numpy()\n",
    "plt.title(\"label: %d\" %label)\n",
    "plt.imshow(img[0],cmap='gray')\n",
    "plt.show()"
   ]
  },
  {
   "cell_type": "markdown",
   "id": "automotive-redhead",
   "metadata": {},
   "source": [
    "## 3. 데이터 로드함수\n",
    "학습시킬 때 batch_size 단위로 끊어서 로드하기 위함"
   ]
  },
  {
   "cell_type": "code",
   "execution_count": 4,
   "id": "after-cannon",
   "metadata": {},
   "outputs": [],
   "source": [
    "#hyper parameters\n",
    "batch_size=1024\n",
    "learning_rate=0.01\n",
    "num_epoch=400"
   ]
  },
  {
   "cell_type": "code",
   "execution_count": 5,
   "id": "signed-equality",
   "metadata": {},
   "outputs": [],
   "source": [
    "train_loader=torch.utils.data.DataLoader(mnist_train,\n",
    "                                        batch_size=batch_size,\n",
    "                                        shuffle=True, num_workers=2,\n",
    "                                        drop_last=True)\n",
    "test_loader=torch.utils.data.DataLoader(mnist_test,\n",
    "                                        batch_size=batch_size,\n",
    "                                        shuffle=False, num_workers=2,\n",
    "                                        drop_last=True)"
   ]
  },
  {
   "cell_type": "markdown",
   "id": "gross-fiction",
   "metadata": {},
   "source": [
    "데이터 로드함수 이해하기"
   ]
  },
  {
   "cell_type": "code",
   "execution_count": 6,
   "id": "balanced-christopher",
   "metadata": {},
   "outputs": [
    {
     "name": "stdout",
     "output_type": "stream",
     "text": [
      "[0]\n",
      "한 번에 로드되는 데이터 크기: 1024\n"
     ]
    },
    {
     "data": {
      "image/png": "[encoded data removed]",
      "text/plain": [
       "<Figure size 432x288 with 3 Axes>"
      ]
     },
     "metadata": {
      "needs_background": "light"
     },
     "output_type": "display_data"
    },
    {
     "name": "stdout",
     "output_type": "stream",
     "text": [
      "[1]\n",
      "한 번에 로드되는 데이터 크기: 1024\n"
     ]
    },
    {
     "data": {
      "image/png": "[encoded data removed]",
      "text/plain": [
       "<Figure size 432x288 with 3 Axes>"
      ]
     },
     "metadata": {
      "needs_background": "light"
     },
     "output_type": "display_data"
    },
    {
     "name": "stdout",
     "output_type": "stream",
     "text": [
      "[2]\n",
      "한 번에 로드되는 데이터 크기: 1024\n"
     ]
    },
    {
     "data": {
      "image/png": "[encoded data removed]",
      "text/plain": [
       "<Figure size 432x288 with 3 Axes>"
      ]
     },
     "metadata": {
      "needs_background": "light"
     },
     "output_type": "display_data"
    },
    {
     "name": "stdout",
     "output_type": "stream",
     "text": [
      "[3]\n",
      "한 번에 로드되는 데이터 크기: 1024\n"
     ]
    },
    {
     "data": {
      "image/png": "[encoded data removed]",
      "text/plain": [
       "<Figure size 432x288 with 3 Axes>"
      ]
     },
     "metadata": {
      "needs_background": "light"
     },
     "output_type": "display_data"
    },
    {
     "name": "stdout",
     "output_type": "stream",
     "text": [
      "[4]\n",
      "한 번에 로드되는 데이터 크기: 1024\n"
     ]
    },
    {
     "data": {
      "image/png": "[encoded data removed]",
      "text/plain": [
       "<Figure size 432x288 with 3 Axes>"
      ]
     },
     "metadata": {
      "needs_background": "light"
     },
     "output_type": "display_data"
    },
    {
     "name": "stdout",
     "output_type": "stream",
     "text": [
      "[5]\n",
      "한 번에 로드되는 데이터 크기: 1024\n"
     ]
    },
    {
     "data": {
      "image/png": "[encoded data removed]",
      "text/plain": [
       "<Figure size 432x288 with 3 Axes>"
      ]
     },
     "metadata": {
      "needs_background": "light"
     },
     "output_type": "display_data"
    }
   ],
   "source": [
    "n=3\n",
    "for i,[imgs,labels] in enumerate(test_loader):\n",
    "    if i>5:\n",
    "        break\n",
    "        \n",
    "    print \"[%d]\" %i \n",
    "    print \"한 번에 로드되는 데이터 크기:\",len(imgs)\n",
    "    \n",
    "    #그리기\n",
    "    for j in range(n):\n",
    "        img=imgs[j].numpy() #imgae타입을 numpy로 변환 \n",
    "        img=img.reshape((img.shape[1],img.shape[2])) #(1,28,28) -> (28,28)\n",
    "        \n",
    "        plt.subplot(1,n,j+1) #(1,3)형태 플랏의 j번째 자리에 그리겠다\n",
    "        plt.imshow(img,cmap='gray')\n",
    "        plt.title(\"label:%d\" %labels[j])\n",
    "    plt.show()\n",
    "        "
   ]
  },
  {
   "cell_type": "markdown",
   "id": "stainless-colony",
   "metadata": {},
   "source": [
    "## 4. 모델 선언 "
   ]
  },
  {
   "cell_type": "code",
   "execution_count": 7,
   "id": "addressed-playing",
   "metadata": {},
   "outputs": [],
   "source": [
    "#모델 선언\n",
    "#*퍼셉트론(2 hidden layer)*\n",
    "\n",
    "model=nn.Sequential(\n",
    "    nn.Linear(28*28,256),\n",
    "    nn.Sigmoid(),\n",
    "    nn.Linear(256,128),\n",
    "    nn.Linear(128,10),\n",
    ")\n",
    "#파라미터보기\n",
    "#print(list(model.parameters()))"
   ]
  },
  {
   "cell_type": "code",
   "execution_count": 8,
   "id": "surface-funeral",
   "metadata": {},
   "outputs": [],
   "source": [
    "def ComputeAccr(dloader,imodel):\n",
    "    correct=0\n",
    "    total=0\n",
    "    \n",
    "    for j, [imgs,labels] in enumerate(dloader):\n",
    "        img=imgs #x\n",
    "        label=Variable(labels) #y\n",
    "        \n",
    "        #(batch_size,1,28,28) -> (batch_size,28,28)\n",
    "        img=img.reshape((img.shape[0],img.shape[2], img.shape[3]))\n",
    "    \n",
    "        #(batch_size,28,28) -> (batch_size,28*28)\n",
    "        img=img.reshape((img.shape[0],img.shape[1]*img.shape[2]))\n",
    "        img=Variable(img,requires_grad=False)\n",
    "    \n",
    "        output=imodel(img)\n",
    "        _,output_index=torch.max(output,1)\n",
    "    \n",
    "        total+=label.size(0)\n",
    "        correct+=(output_index==label).sum().float()\n",
    "    print(\"Accuracy of Test Data: {}\".format(100*correct/total))\n",
    "    "
   ]
  },
  {
   "cell_type": "code",
   "execution_count": 9,
   "id": "intermediate-salmon",
   "metadata": {},
   "outputs": [
    {
     "name": "stdout",
     "output_type": "stream",
     "text": [
      "Accuracy of Test Data: 12.0876731873\n"
     ]
    }
   ],
   "source": [
    "ComputeAccr(test_loader,model)"
   ]
  },
  {
   "cell_type": "markdown",
   "id": "indoor-designer",
   "metadata": {},
   "source": [
    "## 5. loss, optimizer"
   ]
  },
  {
   "cell_type": "code",
   "execution_count": 10,
   "id": "comic-photography",
   "metadata": {},
   "outputs": [],
   "source": [
    "loss_func = nn.CrossEntropyLoss()\n",
    "optimizer = optim.SGD(model.parameters(), lr=learning_rate)"
   ]
  },
  {
   "cell_type": "markdown",
   "id": "christian-given",
   "metadata": {},
   "source": [
    "## 6.학습"
   ]
  },
  {
   "cell_type": "code",
   "execution_count": 11,
   "id": "first-conditioning",
   "metadata": {},
   "outputs": [
    {
     "name": "stdout",
     "output_type": "stream",
     "text": [
      "0..\n",
      "Accuracy of Test Data: 16.5907115936\n",
      "tensor(2.2926, grad_fn=<NllLossBackward>)\n",
      "50..\n",
      "Accuracy of Test Data: 82.1831588745\n",
      "tensor(0.6717, grad_fn=<NllLossBackward>)\n",
      "100..\n",
      "Accuracy of Test Data: 88.389755249\n",
      "tensor(0.4008, grad_fn=<NllLossBackward>)\n",
      "150..\n",
      "Accuracy of Test Data: 89.6050338745\n",
      "tensor(0.3678, grad_fn=<NllLossBackward>)\n",
      "200..\n",
      "Accuracy of Test Data: 90.4730911255\n",
      "tensor(0.3620, grad_fn=<NllLossBackward>)\n",
      "250..\n",
      "Accuracy of Test Data: 91.091583252\n",
      "tensor(0.3262, grad_fn=<NllLossBackward>)\n",
      "300..\n",
      "Accuracy of Test Data: 91.493057251\n",
      "tensor(0.3268, grad_fn=<NllLossBackward>)\n",
      "350..\n",
      "Accuracy of Test Data: 91.818572998\n",
      "tensor(0.2951, grad_fn=<NllLossBackward>)\n"
     ]
    }
   ],
   "source": [
    "num_epoch=400\n",
    "for i in range(num_epoch):\n",
    "    for j, [imgs,labels] in enumerate(train_loader): #batch_size만큼\n",
    "        img=imgs #(batch_size,1,28,28)\n",
    "        label=Variable(labels) #(batch_size)\n",
    "        \n",
    "        #(batch_size,1,28,28) -> (batch_size,28,28)\n",
    "        img=img.reshape((img.shape[0],img.shape[2], img.shape[3]))\n",
    "    \n",
    "        #(batch_size,28,28) -> (batch_size,28*28)\n",
    "        img=img.reshape((img.shape[0],img.shape[1]*img.shape[2]))\n",
    "        img=Variable(img,requires_grad=True)\n",
    "        \n",
    "        optimizer.zero_grad()\n",
    "        output=model(img) #forward prop\n",
    "        loss=loss_func(output,label)\n",
    "        \n",
    "        loss.backward() #back prop\n",
    "        optimizer.step()\n",
    "        \n",
    "        \n",
    "        \n",
    "    if i%50==0:\n",
    "        print(\"%d..\" %i)\n",
    "        ComputeAccr(test_loader,model)\n",
    "        print loss"
   ]
  },
  {
   "cell_type": "markdown",
   "id": "overhead-enemy",
   "metadata": {},
   "source": [
    "## 7. 테스트"
   ]
  },
  {
   "cell_type": "code",
   "execution_count": 12,
   "id": "wound-nirvana",
   "metadata": {},
   "outputs": [
    {
     "name": "stdout",
     "output_type": "stream",
     "text": [
      "Accuracy of Test Data: 91.9921875\n"
     ]
    }
   ],
   "source": [
    "ComputeAccr(test_loader,model)"
   ]
  },
  {
   "cell_type": "markdown",
   "id": "tutorial-helicopter",
   "metadata": {},
   "source": [
    "## 8. 학습된 파라미터 저장"
   ]
  },
  {
   "cell_type": "code",
   "execution_count": null,
   "id": "external-eligibility",
   "metadata": {},
   "outputs": [],
   "source": [
    "netname='./ex_1/mlp_weight.pkl'"
   ]
  }
 ],
 "metadata": {
  "kernelspec": {
   "display_name": "conda_pytorch_p27",
   "language": "python",
   "name": "conda_pytorch_p27"
  },
  "language_info": {
   "codemirror_mode": {
    "name": "ipython",
    "version": 2
   },
   "file_extension": ".py",
   "mimetype": "text/x-python",
   "name": "python",
   "nbconvert_exporter": "python",
   "pygments_lexer": "ipython2",
   "version": "2.7.16"
  }
 },
 "nbformat": 4,
 "nbformat_minor": 5
}
